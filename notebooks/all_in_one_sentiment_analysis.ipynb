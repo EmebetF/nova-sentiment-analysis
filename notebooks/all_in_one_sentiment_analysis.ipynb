{
 "cells": [
  {
   "cell_type": "markdown",
   "id": "9320c9ef",
   "metadata": {},
   "source": [
    "### Sentiment Analysis for All Tickers"
   ]
  },
  {
   "cell_type": "code",
   "execution_count": 18,
   "id": "c8dbcf63",
   "metadata": {},
   "outputs": [],
   "source": [
    "import pandas as pd\n",
    "import numpy as np\n",
    "import os\n",
    "import seaborn as sns\n",
    "import matplotlib.pyplot as plt\n",
    "from textblob import TextBlob\n",
    "from datetime import datetime"
   ]
  },
  {
   "cell_type": "code",
   "execution_count": 19,
   "id": "21ae1aad",
   "metadata": {},
   "outputs": [],
   "source": [
    "# List of stock tickers\n",
    "tickers = ['AAPL', 'MSFT', 'GOOG', 'AMZN', 'META', 'NVDA', 'TSLA']"
   ]
  },
  {
   "cell_type": "code",
   "execution_count": 20,
   "id": "f8f77343",
   "metadata": {},
   "outputs": [],
   "source": [
    "# Load financial news data\n",
    "news_df = pd.read_csv(\"../data/raw_analyst_ratings.csv\", parse_dates=['date'])\n",
    "news_df = news_df[[\"date\", \"headline\", \"stock\"]]\n",
    "# news_df['date'] = pd.to_datetime(news_df['date']).dt.date<\n",
    "\n",
    "# Ensure proper datetime parsing with fallback if needed\n",
    "# For news_df: parse if not already datetime\n",
    "if not pd.api.types.is_datetime64_any_dtype(news_df[\"date\"]):\n",
    "    news_df[\"date\"] = pd.to_datetime(news_df[\"date\"], errors='coerce')\n",
    "\n",
    "# # For stock_df: same treatment\n",
    "# if not pd.api.types.is_datetime64_any_dtype(stock_df[\"date\"]):\n",
    "#     stock_df[\"date\"] = pd.to_datetime(stock_df[\"date\"], errors='coerce')\n",
    "\n",
    "# Remove time component to keep only the date\n",
    "news_df[\"date\"] = news_df[\"date\"].dt.date\n",
    "# stock_df[\"date\"] = stock_df[\"date\"].dt.date\n",
    "\n",
    "# Drop rows with invalid dates if any\n",
    "news_df.dropna(subset=[\"date\"], inplace=True)\n",
    "# stock_df.dropna(subset=[\"date\"], inplace=True)\n"
   ]
  },
  {
   "cell_type": "markdown",
   "id": "0ad567a5",
   "metadata": {},
   "source": [
    "### Collect Correlations"
   ]
  },
  {
   "cell_type": "code",
   "execution_count": 23,
   "id": "5ae277c3",
   "metadata": {},
   "outputs": [
    {
     "name": "stdout",
     "output_type": "stream",
     "text": [
      "Processing AAPL...\n",
      "Processing MSFT...\n",
      "Processing GOOG...\n",
      "Processing AMZN...\n",
      "Processing META...\n",
      "Processing NVDA...\n",
      "Processing TSLA...\n"
     ]
    },
    {
     "name": "stderr",
     "output_type": "stream",
     "text": [
      "/home/yta/anaconda3/envs/10ay/lib/python3.10/site-packages/numpy/lib/_function_base_impl.py:2914: RuntimeWarning: Degrees of freedom <= 0 for slice\n",
      "  c = cov(x, y, rowvar, dtype=dtype)\n",
      "/home/yta/anaconda3/envs/10ay/lib/python3.10/site-packages/numpy/lib/_function_base_impl.py:2773: RuntimeWarning: divide by zero encountered in divide\n",
      "  c *= np.true_divide(1, fact)\n",
      "/home/yta/anaconda3/envs/10ay/lib/python3.10/site-packages/numpy/lib/_function_base_impl.py:2773: RuntimeWarning: invalid value encountered in multiply\n",
      "  c *= np.true_divide(1, fact)\n"
     ]
    }
   ],
   "source": [
    "correlations = []\n",
    "\n",
    "def get_sentiment(text):\n",
    "    return TextBlob(str(text)).sentiment.polarity\n",
    "\n",
    "news_df['sentiment'] = news_df['headline'].apply(get_sentiment)\n",
    "\n",
    "# Group sentiment by date and stock\n",
    "daily_sentiment = news_df.groupby(['date', 'stock'])['sentiment'].mean().reset_index()\n",
    "\n",
    "def safe_correlation(x, y):\n",
    "    if len(x) < 2 or len(y) < 2:\n",
    "        return np.nan\n",
    "    if np.std(x) == 0 or np.std(y) == 0:\n",
    "        return np.nan\n",
    "    return np.corrcoef(x, y)[0, 1]\n",
    "\n",
    "for ticker in tickers:\n",
    "    print(f\"Processing {ticker}...\")\n",
    "    try:\n",
    "        stock_path = f\"../data/{ticker}_historical_data.csv\"\n",
    "        stock_df = pd.read_csv(stock_path)\n",
    "        stock_df = stock_df[['Date', 'Close']].rename(columns={'Date': 'date'})\n",
    "        stock_df['date'] = pd.to_datetime(stock_df['date']).dt.date\n",
    "        stock_df.sort_values('date', inplace=True)\n",
    "        \n",
    "        # Compute daily return\n",
    "        stock_df['return'] = stock_df['Close'].pct_change()\n",
    "        \n",
    "        # Filter sentiment for the current ticker\n",
    "        ticker_sentiment = daily_sentiment[daily_sentiment['stock'] == ticker]\n",
    "        \n",
    "        # Merge stock return and sentiment by date\n",
    "        merged_df = pd.merge(stock_df, ticker_sentiment, on='date', how='inner')\n",
    "        \n",
    "        # Compute correlation\n",
    "        corr = merged_df['return'].corr(merged_df['sentiment'])\n",
    "        correlations.append({'ticker': ticker, 'correlation': corr})\n",
    "        \n",
    "        # Plot\n",
    "        plt.figure(figsize=(10, 5))\n",
    "        sns.scatterplot(data=merged_df, x='sentiment', y='return')\n",
    "        plt.title(f'{ticker}: Sentiment vs Return (r={corr:.2f})')\n",
    "        plt.xlabel(\"Average Daily Sentiment\")\n",
    "        plt.ylabel(\"Daily Stock Return\")\n",
    "        plt.grid(True)\n",
    "        plt.tight_layout()\n",
    "        plt.savefig(f\"../output/{ticker}_sentiment_return_corr.png\")\n",
    "        plt.close()\n",
    "        \n",
    "    except Exception as e:\n",
    "        print(f\"Error processing {ticker}: {e}\")\n"
   ]
  },
  {
   "cell_type": "markdown",
   "id": "0ddc2377",
   "metadata": {},
   "source": [
    "### Correlation Table and Heatmap"
   ]
  },
  {
   "cell_type": "code",
   "execution_count": null,
   "id": "f85e0e97",
   "metadata": {},
   "outputs": [
    {
     "name": "stdout",
     "output_type": "stream",
     "text": [
      "\n",
      "Sentiment vs Return Correlation:\n",
      "  ticker  correlation\n",
      "0   AAPL    -1.000000\n",
      "1   MSFT          NaN\n",
      "2   GOOG    -0.089449\n",
      "3   AMZN    -1.000000\n",
      "4   META          NaN\n",
      "5   NVDA     0.175714\n",
      "6   TSLA          NaN\n"
     ]
    },
    {
     "data": {
      "image/png": "[encoded data removed]",
      "text/plain": [
       "<Figure size 800x500 with 1 Axes>"
      ]
     },
     "metadata": {},
     "output_type": "display_data"
    }
   ],
   "source": [
    "correlation_df = pd.DataFrame(correlations)\n",
    "print(\"\\nSentiment vs Return Correlation:\")\n",
    "print(correlation_df)\n",
    "\n",
    "# Plot summary heatmap\n",
    "plt.figure(figsize=(8, 5))\n",
    "sns.barplot(data=correlation_df, x='ticker', y='correlation', hue='ticker', palette='coolwarm', legend=False)\n",
    "plt.axhline(0, color='black', linestyle='--')\n",
    "plt.title(\"Sentiment vs Return Correlation per Ticker\")\n",
    "plt.tight_layout()\n",
    "plt.savefig(\"../output/correlation_summary.png\")\n",
    "plt.show()\n"
   ]
  },
  {
   "cell_type": "code",
   "execution_count": 24,
   "id": "93266ffb",
   "metadata": {},
   "outputs": [
    {
     "data": {
      "text/plain": [
       "<Figure size 640x480 with 0 Axes>"
      ]
     },
     "metadata": {},
     "output_type": "display_data"
    }
   ],
   "source": [
    "plt.savefig(\"../output/all_in_one_correlation.png\")"
   ]
  },
  {
   "cell_type": "code",
   "execution_count": null,
   "id": "069316ce",
   "metadata": {},
   "outputs": [],
   "source": []
  }
 ],
 "metadata": {
  "kernelspec": {
   "display_name": "10ay",
   "language": "python",
   "name": "10ay"
  },
  "language_info": {
   "codemirror_mode": {
    "name": "ipython",
    "version": 3
   },
   "file_extension": ".py",
   "mimetype": "text/x-python",
   "name": "python",
   "nbconvert_exporter": "python",
   "pygments_lexer": "ipython3",
   "version": "3.10.16"
  }
 },
 "nbformat": 4,
 "nbformat_minor": 5
}
